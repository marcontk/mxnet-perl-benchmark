{
 "cells": [
  {
   "cell_type": "markdown",
   "metadata": {},
   "source": [
    "## Example: Comparación de tiempo por operación"
   ]
  },
  {
   "cell_type": "code",
   "execution_count": 1,
   "metadata": {},
   "outputs": [
    {
     "data": {
      "text/html": [
       "<script>\n",
       "//# sourceURL=iperl-devel-plugin-chart-plotly.js\n",
       "            $('#Plotly').each(function(i, e) { $(e).attr('id', 'plotly') });\n",
       "\n",
       "            if (!window.Plotly) {\n",
       "                requirejs.config({\n",
       "                  paths: {\n",
       "                    plotly: ['https://cdn.plot.ly/plotly-latest.min']},\n",
       "                });\n",
       "                window.Plotly = {\n",
       "react : function (div, data, layout, config){\n",
       "                    require(['plotly'], function(plotly) {\n",
       "                      window.Plotly=plotly;\n",
       "Plotly.react(div, data, layout, config);                    });\n",
       "                  }\n",
       "                }\n",
       "            }\n",
       "</script>\n",
       "<div id=\"57e05458-0f79-11f0-a07a-dbcd7f431b9e\"></div>\n",
       "\n",
       "<script>\n",
       "Plotly.react(document.getElementById('57e05458-0f79-11f0-a07a-dbcd7f431b9e'),[{\"type\":\"scatter\",\"y\":[0.05054,0.02522,0.01266,0.00847,0.00637,0.00844],\"name\":\"Mac Pro 2013\",\"x\":[1,2,4,6,8,12],\"mode\":\"lines+markers\"},{\"x\":[1,2,4,6,8,12],\"mode\":\"lines+markers\",\"type\":\"scatter\",\"y\":[0.05045,0.02534,0.01276,0.00854,0.00647,0.00457],\"name\":\"Mac M2\"}] ,{\"xaxis\":{\"title\":\"Number of Processes\"},\"yaxis\":{\"title\":\"Time per Operation (s)\"},\"title\":\"MXNet Benchmark: Average time per operation\"} );\n",
       "</script>\n"
      ]
     },
     "metadata": {},
     "output_type": "display_data"
    }
   ],
   "source": [
    "IPerl->load_plugin('Chart::Plotly');\n",
    "\n",
    "use Chart::Plotly qw(show_plot);\n",
    "use Chart::Plotly::Plot;\n",
    "use Chart::Plotly::Trace::Scatter;\n",
    "\n",
    "# Simulated benchmark data (you can load from CSV with Text::CSV or PDL if needed)\n",
    "my @processes = (1, 2, 4, 6, 8, 12);\n",
    "my @macpro    = (0.05054, 0.02522, 0.01266, 0.00847, 0.00637, 0.00844);\n",
    "my @m2        = (0.05045, 0.02534, 0.01276, 0.00854, 0.00647, 0.00457);\n",
    "\n",
    "my $trace_macpro = Chart::Plotly::Trace::Scatter->new(\n",
    "    name => 'Mac Pro 2013',\n",
    "    x => \\@processes,\n",
    "    y => \\@macpro,\n",
    "    mode => 'lines+markers'\n",
    ");\n",
    "\n",
    "my $trace_m2 = Chart::Plotly::Trace::Scatter->new(\n",
    "    name => 'Mac M2',\n",
    "    x => \\@processes,\n",
    "    y => \\@m2,\n",
    "    mode => 'lines+markers'\n",
    ");\n",
    "\n",
    "my $plot = Chart::Plotly::Plot->new(\n",
    "    traces => [ $trace_macpro, $trace_m2 ],\n",
    "    layout => {\n",
    "        title => 'MXNet Benchmark: Average time per operation',\n",
    "        xaxis => { title => 'Number of Processes' },\n",
    "        yaxis => { title => 'Time per Operation (s)' }\n",
    "    }\n",
    ");"
   ]
  }
 ],
 "metadata": {
  "kernelspec": {
   "display_name": "IPerl 0.012",
   "language": "perl",
   "name": "iperl"
  },
  "language_info": {
   "file_extension": ".pl",
   "mimetype": "text/x-perl",
   "name": "perl",
   "version": "5.34.3"
  }
 },
 "nbformat": 4,
 "nbformat_minor": 2
}
